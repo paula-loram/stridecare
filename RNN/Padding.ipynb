{
 "cells": [
  {
   "cell_type": "markdown",
   "id": "a6ee8733-1b3d-4c6a-8246-f4cef41a200d",
   "metadata": {},
   "source": [
    "# Padding"
   ]
  },
  {
   "cell_type": "code",
   "execution_count": 12,
   "id": "f2a94013-b37c-4fac-ac6e-d9f25786cd49",
   "metadata": {
    "tags": []
   },
   "outputs": [],
   "source": [
    "import pandas as pd \n",
    "import numpy as np\n",
    "df = pd.read_csv(\"data/meta/run_data_meta.csv\")\n",
    "filenames= []\n",
    "for i in range(len(df)):\n",
    "    filenames.append(f\"{df.loc[i,'filename'].split('.')[0]}\")"
   ]
  },
  {
   "cell_type": "code",
   "execution_count": null,
   "id": "833e9435-a8bb-4a0d-a465-dc731d628298",
   "metadata": {
    "tags": []
   },
   "outputs": [],
   "source": [
    "from google.cloud import bigquery\n",
    "\n",
    "# Create a BigQuery client\n",
    "client = bigquery.Client(project = 'stridecare-461809')\n",
    "\n",
    "# Dataset ID\n",
    "dataset_id = 'stridecare-461809.angle_csvs'\n",
    "\n",
    "\n",
    "# Get list of tables in the dataset\n",
    "tables = client.list_tables(dataset_id)\n",
    "\n",
    "# Loop through tables\n",
    "for table in tables:\n",
    "    table_id = f\"{dataset_id}.{table.table_id}\"\n",
    "    \n",
    "    \n",
    "# Define SQL query\n",
    "    query = f\"SELECT * FROM `{table_id}`\"\n",
    "    \n",
    "\n",
    "# Run the query\n",
    "    query_job = client.query(query)\n",
    "\n",
    "# Convert to np array\n",
    "    df = np.array([tuple(row) for row in query_job])\n",
    "    \n",
    "    \n",
    "# View result\n",
    "    # print(df[:1])\n",
    "\n"
   ]
  },
  {
   "cell_type": "code",
   "execution_count": null,
   "id": "b9755a8f-b967-4000-81af-fa4e3629ab13",
   "metadata": {
    "tags": []
   },
   "outputs": [],
   "source": [
    "\n",
    "import tensorflow as tf\n",
    "padded_inputs = tf.keras.utils.pad_sequences(df, padding=\"post\")\n",
    "print(padded_inputs)"
   ]
  },
  {
   "cell_type": "code",
   "execution_count": null,
   "id": "2de32b6c-78b8-4df0-ad07-6b7418b01c48",
   "metadata": {},
   "outputs": [],
   "source": []
  }
 ],
 "metadata": {
  "environment": {
   "kernel": "conda-base-py",
   "name": "workbench-notebooks.m129",
   "type": "gcloud",
   "uri": "us-docker.pkg.dev/deeplearning-platform-release/gcr.io/workbench-notebooks:m129"
  },
  "kernelspec": {
   "display_name": "Python 3 (ipykernel) (Local)",
   "language": "python",
   "name": "conda-base-py"
  },
  "language_info": {
   "codemirror_mode": {
    "name": "ipython",
    "version": 3
   },
   "file_extension": ".py",
   "mimetype": "text/x-python",
   "name": "python",
   "nbconvert_exporter": "python",
   "pygments_lexer": "ipython3",
   "version": "3.10.16"
  },
  "widgets": {
   "application/vnd.jupyter.widget-state+json": {
    "state": {},
    "version_major": 2,
    "version_minor": 0
   }
  }
 },
 "nbformat": 4,
 "nbformat_minor": 5
}
