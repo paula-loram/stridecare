{
 "cells": [
  {
   "cell_type": "markdown",
   "id": "ef7d6786-4730-4403-b125-d03fa0c8b970",
   "metadata": {},
   "source": [
    "# BigQuery"
   ]
  },
  {
   "cell_type": "code",
   "execution_count": 4,
   "id": "f2c4552c-51c9-45ac-a707-33caeb2b0824",
   "metadata": {
    "tags": []
   },
   "outputs": [],
   "source": [
    "import pandas as pd \n",
    "\n",
    "df = pd.read_csv(\"data/meta/run_data_meta.csv\")\n",
    "filenames= []\n",
    "for i in range(len(df)):\n",
    "    filenames.append(f\"{df.loc[i,'filename'].split('.')[0]}\")"
   ]
  },
  {
   "cell_type": "code",
   "execution_count": null,
   "id": "c20900ca-4552-453b-bcd4-7494ca01b6b6",
   "metadata": {
    "tags": []
   },
   "outputs": [],
   "source": [
    "from google.cloud import bigquery\n",
    "import numpy as np\n",
    "\n",
    "# Create a BigQuery client\n",
    "client = bigquery.Client(project = 'stridecare-461809')\n",
    "\n",
    "# Dataset ID\n",
    "dataset_id = 'stridecare-461809.angle_csvs'\n",
    "\n",
    "\n",
    "# Get list of tables in the dataset\n",
    "tables = client.list_tables(dataset_id)\n",
    "\n",
    "# Loop through tables\n",
    "for table in tables:\n",
    "    table_id = f\"{dataset_id}.{table.table_id}\"\n",
    "    \n",
    "    \n",
    "# Define SQL query\n",
    "    query = f\"SELECT * FROM `{table_id}`\"\n",
    "    \n",
    "\n",
    "# Run the query\n",
    "    query_job = client.query(query)\n",
    "\n",
    "# Convert to np array\n",
    "    df = np.array([tuple(row) for row in query_job])\n",
    "    \n",
    "    \n",
    "# View result\n",
    "    # print(df[:1])\n",
    "\n"
   ]
  },
  {
   "cell_type": "code",
   "execution_count": null,
   "id": "df643085-a271-4419-8da4-77a56926e343",
   "metadata": {},
   "outputs": [],
   "source": []
  }
 ],
 "metadata": {
  "environment": {
   "kernel": "conda-base-py",
   "name": "workbench-notebooks.m129",
   "type": "gcloud",
   "uri": "us-docker.pkg.dev/deeplearning-platform-release/gcr.io/workbench-notebooks:m129"
  },
  "kernelspec": {
   "display_name": "Python 3 (ipykernel) (Local) (Local)",
   "language": "python",
   "name": "conda-base-py"
  },
  "language_info": {
   "codemirror_mode": {
    "name": "ipython",
    "version": 3
   },
   "file_extension": ".py",
   "mimetype": "text/x-python",
   "name": "python",
   "nbconvert_exporter": "python",
   "pygments_lexer": "ipython3",
   "version": "3.10.16"
  },
  "widgets": {
   "application/vnd.jupyter.widget-state+json": {
    "state": {},
    "version_major": 2,
    "version_minor": 0
   }
  }
 },
 "nbformat": 4,
 "nbformat_minor": 5
}
