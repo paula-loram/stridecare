{
 "cells": [
  {
   "cell_type": "code",
   "execution_count": 1,
   "id": "4ae1f9ad-e92d-44a9-a8da-01571c53906e",
   "metadata": {
    "execution": {
     "iopub.execute_input": "2025-06-04T10:25:52.865596Z",
     "iopub.status.busy": "2025-06-04T10:25:52.864381Z",
     "iopub.status.idle": "2025-06-04T10:26:16.976742Z",
     "shell.execute_reply": "2025-06-04T10:26:16.974553Z",
     "shell.execute_reply.started": "2025-06-04T10:25:52.865431Z"
    }
   },
   "outputs": [
    {
     "name": "stderr",
     "output_type": "stream",
     "text": [
      "2025-06-04 11:26:04.539863: I tensorflow/core/platform/cpu_feature_guard.cc:210] This TensorFlow binary is optimized to use available CPU instructions in performance-critical operations.\n",
      "To enable the following instructions: AVX2 FMA, in other operations, rebuild TensorFlow with the appropriate compiler flags.\n"
     ]
    }
   ],
   "source": [
    "import cv2\n",
    "import mediapipe as mp\n",
    "import os\n"
   ]
  },
  {
   "cell_type": "code",
   "execution_count": 2,
   "id": "49f9dab6-4cfd-4f09-8bb4-d1097cbce1c9",
   "metadata": {
    "execution": {
     "iopub.execute_input": "2025-06-04T10:54:54.646603Z",
     "iopub.status.busy": "2025-06-04T10:54:54.636541Z",
     "iopub.status.idle": "2025-06-04T10:54:54.669488Z",
     "shell.execute_reply": "2025-06-04T10:54:54.667261Z",
     "shell.execute_reply.started": "2025-06-04T10:54:54.646484Z"
    }
   },
   "outputs": [],
   "source": [
    "# Set folder with videos\n",
    "VIDEO_FOLDER = 'raw_data/running'\n",
    "OUTPUT_FOLDER = 'output/annotated_videos'\n",
    "os.makedirs(OUTPUT_FOLDER, exist_ok=True)\n"
   ]
  },
  {
   "cell_type": "code",
   "execution_count": 3,
   "id": "8c09f03e-40c2-46a6-a8df-ff9a9c18a2e4",
   "metadata": {
    "execution": {
     "iopub.execute_input": "2025-06-04T10:54:57.845015Z",
     "iopub.status.busy": "2025-06-04T10:54:57.844488Z",
     "iopub.status.idle": "2025-06-04T10:54:57.853256Z",
     "shell.execute_reply": "2025-06-04T10:54:57.851433Z",
     "shell.execute_reply.started": "2025-06-04T10:54:57.844971Z"
    }
   },
   "outputs": [],
   "source": [
    "# Initialize MediaPipe\n",
    "mp_drawing = mp.solutions.drawing_utils\n",
    "mp_pose = mp.solutions.pose\n"
   ]
  },
  {
   "cell_type": "code",
   "execution_count": 6,
   "id": "c930b7d4-705a-4661-a6e4-d12ac52bdd2c",
   "metadata": {
    "execution": {
     "iopub.execute_input": "2025-06-04T10:55:11.345651Z",
     "iopub.status.busy": "2025-06-04T10:55:11.345017Z",
     "iopub.status.idle": "2025-06-04T10:55:11.359120Z",
     "shell.execute_reply": "2025-06-04T10:55:11.356404Z",
     "shell.execute_reply.started": "2025-06-04T10:55:11.345605Z"
    }
   },
   "outputs": [
    {
     "ename": "SyntaxError",
     "evalue": "incomplete input (2518645368.py, line 2)",
     "output_type": "error",
     "traceback": [
      "\u001b[0;36m  Cell \u001b[0;32mIn[6], line 2\u001b[0;36m\u001b[0m\n\u001b[0;31m    with mp_pose.Pose(static_image_mode=False, min_detection_confidence=0.5, min_tracking_confidence=0.5) as pose:\u001b[0m\n\u001b[0m                                                                                                                  ^\u001b[0m\n\u001b[0;31mSyntaxError\u001b[0m\u001b[0;31m:\u001b[0m incomplete input\n"
     ]
    }
   ],
   "source": [
    "# Pose detector setup\n",
    "with mp_pose.Pose(static_image_mode=False, min_detection_confidence=0.5, min_tracking_confidence=0.5) as pose:"
   ]
  },
  {
   "cell_type": "code",
   "execution_count": 7,
   "id": "399139bc-a607-46da-8bd1-0db4d3f735c2",
   "metadata": {
    "execution": {
     "iopub.execute_input": "2025-06-04T10:55:13.151443Z",
     "iopub.status.busy": "2025-06-04T10:55:13.150744Z",
     "iopub.status.idle": "2025-06-04T10:55:13.167239Z",
     "shell.execute_reply": "2025-06-04T10:55:13.164576Z",
     "shell.execute_reply.started": "2025-06-04T10:55:13.151397Z"
    }
   },
   "outputs": [
    {
     "ename": "IndentationError",
     "evalue": "unexpected indent (3037486086.py, line 2)",
     "output_type": "error",
     "traceback": [
      "\u001b[0;36m  Cell \u001b[0;32mIn[7], line 2\u001b[0;36m\u001b[0m\n\u001b[0;31m    for filename in os.listdir(VIDEO_FOLDER):\u001b[0m\n\u001b[0m    ^\u001b[0m\n\u001b[0;31mIndentationError\u001b[0m\u001b[0;31m:\u001b[0m unexpected indent\n"
     ]
    }
   ],
   "source": [
    "# Loop through all video files\n",
    "    for filename in os.listdir(VIDEO_FOLDER):\n",
    "        if filename.endswith('.avi') or filename.endswith('.mp4'):\n",
    "            video_path = os.path.join(VIDEO_FOLDER, filename)\n",
    "            print(f\"Processing: {video_path}\")\n",
    "\n",
    "            cap = cv2.VideoCapture(video_path)\n",
    "            width = int(cap.get(cv2.CAP_PROP_FRAME_WIDTH))\n",
    "            height = int(cap.get(cv2.CAP_PROP_FRAME_HEIGHT))\n",
    "            fps = cap.get(cv2.CAP_PROP_FPS)\n",
    "\n",
    "            output_path = os.path.join(OUTPUT_FOLDER, f\"annotated_{filename}\")\n",
    "            out = cv2.VideoWriter(output_path, cv2.VideoWriter_fourcc(*'mp4v'), fps, (width, height))\n",
    "\n",
    "            while cap.isOpened():\n",
    "                success, frame = cap.read()\n",
    "                if not success:\n",
    "                    break\n",
    "\n",
    "                image = cv2.cvtColor(frame, cv2.COLOR_BGR2RGB)\n",
    "                results = pose.process(image)\n",
    "                annotated_image = frame.copy()\n",
    "\n",
    "                if results.pose_landmarks:\n",
    "                    mp_drawing.draw_landmarks(\n",
    "                        annotated_image,\n",
    "                        results.pose_landmarks,\n",
    "                        mp_pose.POSE_CONNECTIONS\n",
    "                    )\n",
    "\n",
    "                out.write(annotated_image)\n",
    "\n",
    "            cap.release()\n",
    "            out.release()\n",
    "            print(f\"Saved: {output_path}\")\n",
    "\n",
    "cv2.destroyAllWindows()"
   ]
  },
  {
   "cell_type": "code",
   "execution_count": 12,
   "id": "f3187475-1c9e-4c29-ba05-e4a13a8e8a8a",
   "metadata": {
    "execution": {
     "iopub.execute_input": "2025-06-04T10:57:55.282079Z",
     "iopub.status.busy": "2025-06-04T10:57:55.276416Z",
     "iopub.status.idle": "2025-06-04T10:57:55.303520Z",
     "shell.execute_reply": "2025-06-04T10:57:55.301597Z",
     "shell.execute_reply.started": "2025-06-04T10:57:55.281942Z"
    }
   },
   "outputs": [
    {
     "name": "stdout",
     "output_type": "stream",
     "text": [
      "Total video files: 100\n"
     ]
    }
   ],
   "source": [
    "video_files = [f for f in os.listdir(VIDEO_FOLDER) if f.endswith('.avi') or f.endswith('.mp4')]\n",
    "print(f\"Total video files: {len(video_files)}\")"
   ]
  },
  {
   "cell_type": "code",
   "execution_count": null,
   "id": "cc98b4fb-8a34-4ff6-b7fe-236b135c0737",
   "metadata": {},
   "outputs": [],
   "source": []
  }
 ],
 "metadata": {
  "kernelspec": {
   "display_name": "Python 3 (ipykernel)",
   "language": "python",
   "name": "python3"
  },
  "language_info": {
   "codemirror_mode": {
    "name": "ipython",
    "version": 3
   },
   "file_extension": ".py",
   "mimetype": "text/x-python",
   "name": "python",
   "nbconvert_exporter": "python",
   "pygments_lexer": "ipython3",
   "version": "3.10.6"
  }
 },
 "nbformat": 4,
 "nbformat_minor": 5
}
