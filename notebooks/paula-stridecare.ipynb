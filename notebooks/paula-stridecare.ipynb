{
 "cells": [
  {
   "cell_type": "markdown",
   "id": "6c369325",
   "metadata": {},
   "source": [
    "## Exploring run metadata"
   ]
  },
  {
   "cell_type": "code",
   "execution_count": 2,
   "id": "2cb78daf",
   "metadata": {},
   "outputs": [],
   "source": [
    "import pandas as pd"
   ]
  },
  {
   "cell_type": "code",
   "execution_count": 3,
   "id": "f88c87f6",
   "metadata": {},
   "outputs": [],
   "source": [
    "run = pd.read_csv('../raw_data/run_data_meta.csv')"
   ]
  },
  {
   "cell_type": "code",
   "execution_count": 4,
   "id": "dbc58c80",
   "metadata": {},
   "outputs": [
    {
     "data": {
      "text/plain": [
       "(1832, 26)"
      ]
     },
     "execution_count": 4,
     "metadata": {},
     "output_type": "execute_result"
    }
   ],
   "source": [
    "run.shape"
   ]
  },
  {
   "cell_type": "code",
   "execution_count": 5,
   "id": "df45604f",
   "metadata": {},
   "outputs": [
    {
     "data": {
      "text/plain": [
       "0       100433\n",
       "1       100434\n",
       "2       100537\n",
       "3       100560\n",
       "4       101481\n",
       "         ...  \n",
       "1827    200986\n",
       "1828    200987\n",
       "1829    201100\n",
       "1830    201101\n",
       "1831    201099\n",
       "Name: sub_id, Length: 1832, dtype: int64"
      ]
     },
     "execution_count": 5,
     "metadata": {},
     "output_type": "execute_result"
    }
   ],
   "source": [
    "run.sub_id\n"
   ]
  },
  {
   "cell_type": "code",
   "execution_count": 6,
   "id": "d7ac0ee7",
   "metadata": {},
   "outputs": [
    {
     "data": {
      "text/plain": [
       "1402"
      ]
     },
     "execution_count": 6,
     "metadata": {},
     "output_type": "execute_result"
    }
   ],
   "source": [
    "run.sub_id.nunique()"
   ]
  },
  {
   "cell_type": "code",
   "execution_count": null,
   "id": "fa927aea",
   "metadata": {},
   "outputs": [],
   "source": [
    "\n",
    "for i in run:\n",
    "    file_name = run['filename']\n",
    "    runner_id = run['sub_id']\n",
    "    runner_clip = pd.read_json(f'../raw_data/{runner_id}/{file_name}')"
   ]
  }
 ],
 "metadata": {
  "kernelspec": {
   "display_name": "stridecare",
   "language": "python",
   "name": "python3"
  },
  "language_info": {
   "codemirror_mode": {
    "name": "ipython",
    "version": 3
   },
   "file_extension": ".py",
   "mimetype": "text/x-python",
   "name": "python",
   "nbconvert_exporter": "python",
   "pygments_lexer": "ipython3",
   "version": "3.10.6"
  }
 },
 "nbformat": 4,
 "nbformat_minor": 5
}
