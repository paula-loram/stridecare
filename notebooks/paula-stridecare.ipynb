{
 "cells": [
  {
   "cell_type": "markdown",
   "id": "6c369325",
   "metadata": {},
   "source": [
    "## Exploring run metadata"
   ]
  },
  {
   "cell_type": "code",
   "execution_count": 1,
   "id": "2cb78daf",
   "metadata": {},
   "outputs": [],
   "source": [
    "import pandas as pd"
   ]
  },
  {
   "cell_type": "code",
   "execution_count": 2,
   "id": "f88c87f6",
   "metadata": {},
   "outputs": [],
   "source": [
    "run = pd.read_csv('../raw_data/run_data_meta.csv')"
   ]
  },
  {
   "cell_type": "code",
   "execution_count": 3,
   "id": "dbc58c80",
   "metadata": {},
   "outputs": [
    {
     "data": {
      "text/plain": [
       "(1832, 26)"
      ]
     },
     "execution_count": 3,
     "metadata": {},
     "output_type": "execute_result"
    }
   ],
   "source": [
    "run.shape"
   ]
  },
  {
   "cell_type": "code",
   "execution_count": 4,
   "id": "df45604f",
   "metadata": {},
   "outputs": [
    {
     "data": {
      "text/plain": [
       "0       100433\n",
       "1       100434\n",
       "2       100537\n",
       "3       100560\n",
       "4       101481\n",
       "         ...  \n",
       "1827    200986\n",
       "1828    200987\n",
       "1829    201100\n",
       "1830    201101\n",
       "1831    201099\n",
       "Name: sub_id, Length: 1832, dtype: int64"
      ]
     },
     "execution_count": 4,
     "metadata": {},
     "output_type": "execute_result"
    }
   ],
   "source": [
    "run.sub_id\n"
   ]
  },
  {
   "cell_type": "code",
   "execution_count": 5,
   "id": "f1a291b2",
   "metadata": {},
   "outputs": [
    {
     "data": {
      "text/html": [
       "<div>\n",
       "<style scoped>\n",
       "    .dataframe tbody tr th:only-of-type {\n",
       "        vertical-align: middle;\n",
       "    }\n",
       "\n",
       "    .dataframe tbody tr th {\n",
       "        vertical-align: top;\n",
       "    }\n",
       "\n",
       "    .dataframe thead th {\n",
       "        text-align: right;\n",
       "    }\n",
       "</style>\n",
       "<table border=\"1\" class=\"dataframe\">\n",
       "  <thead>\n",
       "    <tr style=\"text-align: right;\">\n",
       "      <th></th>\n",
       "      <th>sub_id</th>\n",
       "      <th>datestring</th>\n",
       "      <th>filename</th>\n",
       "      <th>speed_r</th>\n",
       "      <th>age</th>\n",
       "      <th>Height</th>\n",
       "      <th>Weight</th>\n",
       "      <th>Gender</th>\n",
       "      <th>DominantLeg</th>\n",
       "      <th>InjDefn</th>\n",
       "      <th>...</th>\n",
       "      <th>SpecInjury2</th>\n",
       "      <th>Activities</th>\n",
       "      <th>Level</th>\n",
       "      <th>YrsRunning</th>\n",
       "      <th>RaceDistance</th>\n",
       "      <th>RaceTimeHrs</th>\n",
       "      <th>RaceTimeMins</th>\n",
       "      <th>RaceTimeSecs</th>\n",
       "      <th>YrPR</th>\n",
       "      <th>NumRaces</th>\n",
       "    </tr>\n",
       "  </thead>\n",
       "  <tbody>\n",
       "    <tr>\n",
       "      <th>0</th>\n",
       "      <td>100433</td>\n",
       "      <td>2010-10-05 13:22:40</td>\n",
       "      <td>20101005T132240.json</td>\n",
       "      <td>1.610861</td>\n",
       "      <td>53</td>\n",
       "      <td>NaN</td>\n",
       "      <td>NaN</td>\n",
       "      <td>Unknown</td>\n",
       "      <td>NaN</td>\n",
       "      <td>Training volume/intensity affected</td>\n",
       "      <td>...</td>\n",
       "      <td>NaN</td>\n",
       "      <td>walking, horseback riding, strength training</td>\n",
       "      <td>Recreational</td>\n",
       "      <td>13.0</td>\n",
       "      <td>10k</td>\n",
       "      <td>NaN</td>\n",
       "      <td>NaN</td>\n",
       "      <td>NaN</td>\n",
       "      <td>NaN</td>\n",
       "      <td>NaN</td>\n",
       "    </tr>\n",
       "    <tr>\n",
       "      <th>1</th>\n",
       "      <td>100434</td>\n",
       "      <td>2010-11-17 13:22:40</td>\n",
       "      <td>20101117T132240.json</td>\n",
       "      <td>2.237294</td>\n",
       "      <td>51</td>\n",
       "      <td>NaN</td>\n",
       "      <td>NaN</td>\n",
       "      <td>Female</td>\n",
       "      <td>NaN</td>\n",
       "      <td>Training volume/intensity affected</td>\n",
       "      <td>...</td>\n",
       "      <td>NaN</td>\n",
       "      <td>running, swimming</td>\n",
       "      <td>Recreational</td>\n",
       "      <td>20.0</td>\n",
       "      <td>Casual Runner (no times)</td>\n",
       "      <td>NaN</td>\n",
       "      <td>NaN</td>\n",
       "      <td>NaN</td>\n",
       "      <td>NaN</td>\n",
       "      <td>NaN</td>\n",
       "    </tr>\n",
       "    <tr>\n",
       "      <th>2</th>\n",
       "      <td>100537</td>\n",
       "      <td>2012-07-03 10:25:50</td>\n",
       "      <td>20120703T102550.json</td>\n",
       "      <td>2.127441</td>\n",
       "      <td>255</td>\n",
       "      <td>173.1</td>\n",
       "      <td>67.6</td>\n",
       "      <td>Female</td>\n",
       "      <td>Right</td>\n",
       "      <td>2 workouts missed in a row</td>\n",
       "      <td>...</td>\n",
       "      <td>NaN</td>\n",
       "      <td>hiking, power walking, pilates</td>\n",
       "      <td>Recreational</td>\n",
       "      <td>2.0</td>\n",
       "      <td>Casual Runner (no times)</td>\n",
       "      <td>NaN</td>\n",
       "      <td>NaN</td>\n",
       "      <td>NaN</td>\n",
       "      <td>NaN</td>\n",
       "      <td>NaN</td>\n",
       "    </tr>\n",
       "    <tr>\n",
       "      <th>3</th>\n",
       "      <td>100560</td>\n",
       "      <td>2012-07-17 10:37:48</td>\n",
       "      <td>20120717T103748.json</td>\n",
       "      <td>2.657365</td>\n",
       "      <td>33</td>\n",
       "      <td>179.3</td>\n",
       "      <td>83.0</td>\n",
       "      <td>Female</td>\n",
       "      <td>Right</td>\n",
       "      <td>No injury</td>\n",
       "      <td>...</td>\n",
       "      <td>NaN</td>\n",
       "      <td>Yoga</td>\n",
       "      <td>Recreational</td>\n",
       "      <td>NaN</td>\n",
       "      <td>Casual Runner (no times)</td>\n",
       "      <td>NaN</td>\n",
       "      <td>NaN</td>\n",
       "      <td>NaN</td>\n",
       "      <td>NaN</td>\n",
       "      <td>NaN</td>\n",
       "    </tr>\n",
       "    <tr>\n",
       "      <th>4</th>\n",
       "      <td>101481</td>\n",
       "      <td>2012-07-17 10:50:21</td>\n",
       "      <td>20120717T105021.json</td>\n",
       "      <td>2.625088</td>\n",
       "      <td>32</td>\n",
       "      <td>176.3</td>\n",
       "      <td>58.6</td>\n",
       "      <td>Female</td>\n",
       "      <td>NaN</td>\n",
       "      <td>No injury</td>\n",
       "      <td>...</td>\n",
       "      <td>NaN</td>\n",
       "      <td>NaN</td>\n",
       "      <td>NaN</td>\n",
       "      <td>NaN</td>\n",
       "      <td>NaN</td>\n",
       "      <td>NaN</td>\n",
       "      <td>NaN</td>\n",
       "      <td>NaN</td>\n",
       "      <td>NaN</td>\n",
       "      <td>NaN</td>\n",
       "    </tr>\n",
       "  </tbody>\n",
       "</table>\n",
       "<p>5 rows × 26 columns</p>\n",
       "</div>"
      ],
      "text/plain": [
       "   sub_id           datestring              filename   speed_r  age  Height  \\\n",
       "0  100433  2010-10-05 13:22:40  20101005T132240.json  1.610861   53     NaN   \n",
       "1  100434  2010-11-17 13:22:40  20101117T132240.json  2.237294   51     NaN   \n",
       "2  100537  2012-07-03 10:25:50  20120703T102550.json  2.127441  255   173.1   \n",
       "3  100560  2012-07-17 10:37:48  20120717T103748.json  2.657365   33   179.3   \n",
       "4  101481  2012-07-17 10:50:21  20120717T105021.json  2.625088   32   176.3   \n",
       "\n",
       "   Weight   Gender DominantLeg                             InjDefn  ...  \\\n",
       "0     NaN  Unknown         NaN  Training volume/intensity affected  ...   \n",
       "1     NaN   Female         NaN  Training volume/intensity affected  ...   \n",
       "2    67.6   Female       Right          2 workouts missed in a row  ...   \n",
       "3    83.0   Female       Right                           No injury  ...   \n",
       "4    58.6   Female         NaN                           No injury  ...   \n",
       "\n",
       "  SpecInjury2                                    Activities         Level  \\\n",
       "0         NaN  walking, horseback riding, strength training  Recreational   \n",
       "1         NaN                             running, swimming  Recreational   \n",
       "2         NaN                hiking, power walking, pilates  Recreational   \n",
       "3         NaN                                          Yoga  Recreational   \n",
       "4         NaN                                           NaN           NaN   \n",
       "\n",
       "   YrsRunning              RaceDistance RaceTimeHrs RaceTimeMins RaceTimeSecs  \\\n",
       "0        13.0                       10k         NaN          NaN          NaN   \n",
       "1        20.0  Casual Runner (no times)         NaN          NaN          NaN   \n",
       "2         2.0  Casual Runner (no times)         NaN          NaN          NaN   \n",
       "3         NaN  Casual Runner (no times)         NaN          NaN          NaN   \n",
       "4         NaN                       NaN         NaN          NaN          NaN   \n",
       "\n",
       "  YrPR  NumRaces  \n",
       "0  NaN       NaN  \n",
       "1  NaN       NaN  \n",
       "2  NaN       NaN  \n",
       "3  NaN       NaN  \n",
       "4  NaN       NaN  \n",
       "\n",
       "[5 rows x 26 columns]"
      ]
     },
     "execution_count": 5,
     "metadata": {},
     "output_type": "execute_result"
    }
   ],
   "source": [
    "run.head()"
   ]
  },
  {
   "cell_type": "code",
   "execution_count": 6,
   "id": "d7ac0ee7",
   "metadata": {},
   "outputs": [
    {
     "data": {
      "text/plain": [
       "1402"
      ]
     },
     "execution_count": 6,
     "metadata": {},
     "output_type": "execute_result"
    }
   ],
   "source": [
    "run.sub_id.nunique()"
   ]
  },
  {
   "cell_type": "code",
   "execution_count": null,
   "id": "fa927aea",
   "metadata": {},
   "outputs": [],
   "source": [
    "\n",
    "for i in run:\n",
    "    file_name = run['filename']\n",
    "    runner_id = run['sub_id']\n",
    "    runner_clip = pd.read_json(f'../raw_data/{runner_id}/{file_name}')"
   ]
  }
 ],
 "metadata": {
  "kernelspec": {
   "display_name": "stridecare",
   "language": "python",
   "name": "python3"
  },
  "language_info": {
   "codemirror_mode": {
    "name": "ipython",
    "version": 3
   },
   "file_extension": ".py",
   "mimetype": "text/x-python",
   "name": "python",
   "nbconvert_exporter": "python",
   "pygments_lexer": "ipython3",
   "version": "3.10.6"
  }
 },
 "nbformat": 4,
 "nbformat_minor": 5
}
