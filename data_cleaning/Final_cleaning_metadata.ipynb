{
 "cells": [
  {
   "cell_type": "markdown",
   "id": "56771e0a-4d1d-4144-86cf-01e737e1a716",
   "metadata": {},
   "source": [
    "# Aim\n",
    "### The aim of this notebook is to clean the metadata by:\n",
    "#### 1. Cleaning the target feature (InjJoint)\n",
    "#### 2. Dealing with missing information in our demographic features\n",
    "## Injury section \n",
    "\n",
    "The aim of this section is to clean the injury feature, whose info is in: (InjJoint, InjDefn, SpecInj). \n",
    "- first: We will look at the NaN in the InjDefn column. Most of them are Not injured based on other columns.\n",
    "- then: We will clean the Nan in the InjJoint column, based on InjDefn\n",
    "- then: We will group the different 'NoInjury', 'NoInjury' and recently coded values. \n",
    "- then: We will create injury groups.\n",
    "\n",
    "\n",
    "\n",
    "\n",
    "\n",
    "\n",
    "\n",
    "\n"
   ]
  },
  {
   "cell_type": "code",
   "execution_count": 1,
   "id": "9cbe54f5-cb46-4c58-ad25-a42496cc6d3c",
   "metadata": {
    "tags": []
   },
   "outputs": [],
   "source": [
    "import pandas as pd\n",
    "import numpy as np"
   ]
  },
  {
   "cell_type": "markdown",
   "id": "f985b6f2-211c-401c-98fc-a209a04219a1",
   "metadata": {},
   "source": [
    "## Loading in the run_data_csv"
   ]
  },
  {
   "cell_type": "code",
   "execution_count": 6,
   "id": "ba96a556-41a6-410e-ac7a-ed156d62b794",
   "metadata": {
    "tags": []
   },
   "outputs": [],
   "source": [
    "data = pd.read_csv('../data/meta/run_data_meta.csv')\n",
    "pd.reset_option('display.max_rows')"
   ]
  },
  {
   "cell_type": "markdown",
   "id": "cca38e82-8528-4bd8-a051-b6d2b70075f9",
   "metadata": {},
   "source": [
    "### Cleaning missing InjJoint values"
   ]
  },
  {
   "cell_type": "code",
   "execution_count": 7,
   "id": "62226824-1178-4ed3-9ff8-dcc885f5bf9c",
   "metadata": {
    "tags": []
   },
   "outputs": [
    {
     "name": "stderr",
     "output_type": "stream",
     "text": [
      "/var/tmp/ipykernel_187069/1728998295.py:3: FutureWarning: A value is trying to be set on a copy of a DataFrame or Series through chained assignment using an inplace method.\n",
      "The behavior will change in pandas 3.0. This inplace method will never work because the intermediate object on which we are setting values always behaves as a copy.\n",
      "\n",
      "For example, when doing 'df[col].method(value, inplace=True)', try using 'df.method({col: value}, inplace=True)' or df[col] = df[col].method(value) instead, to perform the operation inplace on the original object.\n",
      "\n",
      "\n",
      "  cleaned_nulls_inj_df['InjDefn'].fillna('No injury', inplace=True)\n"
     ]
    }
   ],
   "source": [
    "#replacing the nulls from InjDefn with 'NoInjury', because all correspond to 'NoInjury' in 'SpecInj'\n",
    "cleaned_nulls_inj_df = data.copy()\n",
    "cleaned_nulls_inj_df['InjDefn'].fillna('No injury', inplace=True)"
   ]
  },
  {
   "cell_type": "code",
   "execution_count": 8,
   "id": "6d78572e-24ba-4135-807d-e024742b9f6a",
   "metadata": {
    "tags": []
   },
   "outputs": [
    {
     "data": {
      "text/plain": [
       "np.int64(0)"
      ]
     },
     "execution_count": 8,
     "metadata": {},
     "output_type": "execute_result"
    }
   ],
   "source": [
    "cleaned_nulls_inj_df['InjDefn'].isnull().sum() #verification"
   ]
  },
  {
   "cell_type": "markdown",
   "id": "61b5dab0-0580-4fed-bdd5-c6396f5b9230",
   "metadata": {},
   "source": [
    "Now, cleaning InjJoint based on InjDefn information."
   ]
  },
  {
   "cell_type": "code",
   "execution_count": 9,
   "id": "b43e54ba-3bb9-4022-8883-94397d59a565",
   "metadata": {
    "tags": []
   },
   "outputs": [
    {
     "data": {
      "text/html": [
       "<div>\n",
       "<style scoped>\n",
       "    .dataframe tbody tr th:only-of-type {\n",
       "        vertical-align: middle;\n",
       "    }\n",
       "\n",
       "    .dataframe tbody tr th {\n",
       "        vertical-align: top;\n",
       "    }\n",
       "\n",
       "    .dataframe thead th {\n",
       "        text-align: right;\n",
       "    }\n",
       "</style>\n",
       "<table border=\"1\" class=\"dataframe\">\n",
       "  <thead>\n",
       "    <tr style=\"text-align: right;\">\n",
       "      <th></th>\n",
       "      <th>sub_id</th>\n",
       "      <th>datestring</th>\n",
       "      <th>filename</th>\n",
       "      <th>speed_r</th>\n",
       "      <th>age</th>\n",
       "      <th>Height</th>\n",
       "      <th>Weight</th>\n",
       "      <th>Gender</th>\n",
       "      <th>DominantLeg</th>\n",
       "      <th>InjDefn</th>\n",
       "      <th>...</th>\n",
       "      <th>SpecInjury2</th>\n",
       "      <th>Activities</th>\n",
       "      <th>Level</th>\n",
       "      <th>YrsRunning</th>\n",
       "      <th>RaceDistance</th>\n",
       "      <th>RaceTimeHrs</th>\n",
       "      <th>RaceTimeMins</th>\n",
       "      <th>RaceTimeSecs</th>\n",
       "      <th>YrPR</th>\n",
       "      <th>NumRaces</th>\n",
       "    </tr>\n",
       "  </thead>\n",
       "  <tbody>\n",
       "    <tr>\n",
       "      <th>3</th>\n",
       "      <td>100560</td>\n",
       "      <td>2012-07-17 10:37</td>\n",
       "      <td>20120717T103748.json</td>\n",
       "      <td>2.657365</td>\n",
       "      <td>33</td>\n",
       "      <td>179.3</td>\n",
       "      <td>83.0</td>\n",
       "      <td>Female</td>\n",
       "      <td>Right</td>\n",
       "      <td>No injury</td>\n",
       "      <td>...</td>\n",
       "      <td>NaN</td>\n",
       "      <td>Yoga</td>\n",
       "      <td>Recreational</td>\n",
       "      <td>NaN</td>\n",
       "      <td>Casual Runner (no times)</td>\n",
       "      <td>NaN</td>\n",
       "      <td>NaN</td>\n",
       "      <td>NaN</td>\n",
       "      <td>NaN</td>\n",
       "      <td>NaN</td>\n",
       "    </tr>\n",
       "    <tr>\n",
       "      <th>4</th>\n",
       "      <td>101481</td>\n",
       "      <td>2012-07-17 10:50</td>\n",
       "      <td>20120717T105021.json</td>\n",
       "      <td>2.625088</td>\n",
       "      <td>32</td>\n",
       "      <td>176.3</td>\n",
       "      <td>58.6</td>\n",
       "      <td>Female</td>\n",
       "      <td>NaN</td>\n",
       "      <td>No injury</td>\n",
       "      <td>...</td>\n",
       "      <td>NaN</td>\n",
       "      <td>NaN</td>\n",
       "      <td>NaN</td>\n",
       "      <td>NaN</td>\n",
       "      <td>NaN</td>\n",
       "      <td>NaN</td>\n",
       "      <td>NaN</td>\n",
       "      <td>NaN</td>\n",
       "      <td>NaN</td>\n",
       "      <td>NaN</td>\n",
       "    </tr>\n",
       "    <tr>\n",
       "      <th>8</th>\n",
       "      <td>100658</td>\n",
       "      <td>2012-11-22 14:03</td>\n",
       "      <td>20121122T140316.json</td>\n",
       "      <td>2.434180</td>\n",
       "      <td>22</td>\n",
       "      <td>172.0</td>\n",
       "      <td>69.0</td>\n",
       "      <td>Female</td>\n",
       "      <td>Right</td>\n",
       "      <td>No injury</td>\n",
       "      <td>...</td>\n",
       "      <td>NaN</td>\n",
       "      <td>running</td>\n",
       "      <td>Recreational</td>\n",
       "      <td>7.0</td>\n",
       "      <td>Half Marathon</td>\n",
       "      <td>NaN</td>\n",
       "      <td>NaN</td>\n",
       "      <td>NaN</td>\n",
       "      <td>NaN</td>\n",
       "      <td>NaN</td>\n",
       "    </tr>\n",
       "    <tr>\n",
       "      <th>10</th>\n",
       "      <td>100727</td>\n",
       "      <td>2013-04-10 10:54</td>\n",
       "      <td>20130410T105446.json</td>\n",
       "      <td>2.724679</td>\n",
       "      <td>22</td>\n",
       "      <td>170.0</td>\n",
       "      <td>63.0</td>\n",
       "      <td>Female</td>\n",
       "      <td>Left</td>\n",
       "      <td>No injury</td>\n",
       "      <td>...</td>\n",
       "      <td>NaN</td>\n",
       "      <td>Running</td>\n",
       "      <td>Recreational</td>\n",
       "      <td>8.0</td>\n",
       "      <td>10k</td>\n",
       "      <td>NaN</td>\n",
       "      <td>40</td>\n",
       "      <td>00</td>\n",
       "      <td>NaN</td>\n",
       "      <td>4.0</td>\n",
       "    </tr>\n",
       "    <tr>\n",
       "      <th>11</th>\n",
       "      <td>100767</td>\n",
       "      <td>2013-06-06 13:46</td>\n",
       "      <td>20130606T134651.json</td>\n",
       "      <td>2.988546</td>\n",
       "      <td>33</td>\n",
       "      <td>180.0</td>\n",
       "      <td>69.0</td>\n",
       "      <td>Male</td>\n",
       "      <td>Left</td>\n",
       "      <td>No injury</td>\n",
       "      <td>...</td>\n",
       "      <td>NaN</td>\n",
       "      <td>running</td>\n",
       "      <td>Competitive</td>\n",
       "      <td>10.0</td>\n",
       "      <td>10k</td>\n",
       "      <td>NaN</td>\n",
       "      <td>38</td>\n",
       "      <td>NaN</td>\n",
       "      <td>NaN</td>\n",
       "      <td>NaN</td>\n",
       "    </tr>\n",
       "    <tr>\n",
       "      <th>...</th>\n",
       "      <td>...</td>\n",
       "      <td>...</td>\n",
       "      <td>...</td>\n",
       "      <td>...</td>\n",
       "      <td>...</td>\n",
       "      <td>...</td>\n",
       "      <td>...</td>\n",
       "      <td>...</td>\n",
       "      <td>...</td>\n",
       "      <td>...</td>\n",
       "      <td>...</td>\n",
       "      <td>...</td>\n",
       "      <td>...</td>\n",
       "      <td>...</td>\n",
       "      <td>...</td>\n",
       "      <td>...</td>\n",
       "      <td>...</td>\n",
       "      <td>...</td>\n",
       "      <td>...</td>\n",
       "      <td>...</td>\n",
       "      <td>...</td>\n",
       "    </tr>\n",
       "    <tr>\n",
       "      <th>1824</th>\n",
       "      <td>200985</td>\n",
       "      <td>2015-03-10 12:01</td>\n",
       "      <td>20150310T120115.json</td>\n",
       "      <td>2.768780</td>\n",
       "      <td>40</td>\n",
       "      <td>176.0</td>\n",
       "      <td>66.8</td>\n",
       "      <td>Female</td>\n",
       "      <td>Right</td>\n",
       "      <td>No injury</td>\n",
       "      <td>...</td>\n",
       "      <td>NaN</td>\n",
       "      <td>Running, biking, general fitness training</td>\n",
       "      <td>Recreational</td>\n",
       "      <td>25.0</td>\n",
       "      <td>Half Marathon</td>\n",
       "      <td>HH</td>\n",
       "      <td>MM</td>\n",
       "      <td>SS</td>\n",
       "      <td>NaN</td>\n",
       "      <td>1.0</td>\n",
       "    </tr>\n",
       "    <tr>\n",
       "      <th>1825</th>\n",
       "      <td>200985</td>\n",
       "      <td>2015-03-10 12:01</td>\n",
       "      <td>20150310T121326.json</td>\n",
       "      <td>3.359120</td>\n",
       "      <td>40</td>\n",
       "      <td>176.0</td>\n",
       "      <td>66.8</td>\n",
       "      <td>Female</td>\n",
       "      <td>Right</td>\n",
       "      <td>No injury</td>\n",
       "      <td>...</td>\n",
       "      <td>NaN</td>\n",
       "      <td>Running, biking, general fitness training</td>\n",
       "      <td>Recreational</td>\n",
       "      <td>25.0</td>\n",
       "      <td>Half Marathon</td>\n",
       "      <td>HH</td>\n",
       "      <td>MM</td>\n",
       "      <td>SS</td>\n",
       "      <td>NaN</td>\n",
       "      <td>1.0</td>\n",
       "    </tr>\n",
       "    <tr>\n",
       "      <th>1826</th>\n",
       "      <td>200986</td>\n",
       "      <td>2015-03-12 14:28</td>\n",
       "      <td>20150312T142834.json</td>\n",
       "      <td>2.858234</td>\n",
       "      <td>20</td>\n",
       "      <td>174.0</td>\n",
       "      <td>56.8</td>\n",
       "      <td>Female</td>\n",
       "      <td>Right</td>\n",
       "      <td>No injury</td>\n",
       "      <td>...</td>\n",
       "      <td>NaN</td>\n",
       "      <td>Track</td>\n",
       "      <td>Competitive</td>\n",
       "      <td>8.0</td>\n",
       "      <td>Other distance</td>\n",
       "      <td>HH</td>\n",
       "      <td>5</td>\n",
       "      <td>30</td>\n",
       "      <td>2013.0</td>\n",
       "      <td>0.0</td>\n",
       "    </tr>\n",
       "    <tr>\n",
       "      <th>1827</th>\n",
       "      <td>200986</td>\n",
       "      <td>2015-03-12 14:28</td>\n",
       "      <td>20150312T143944.json</td>\n",
       "      <td>4.876998</td>\n",
       "      <td>20</td>\n",
       "      <td>174.0</td>\n",
       "      <td>56.8</td>\n",
       "      <td>Female</td>\n",
       "      <td>Right</td>\n",
       "      <td>No injury</td>\n",
       "      <td>...</td>\n",
       "      <td>NaN</td>\n",
       "      <td>Track</td>\n",
       "      <td>Competitive</td>\n",
       "      <td>8.0</td>\n",
       "      <td>Other distance</td>\n",
       "      <td>HH</td>\n",
       "      <td>5</td>\n",
       "      <td>30</td>\n",
       "      <td>2013.0</td>\n",
       "      <td>0.0</td>\n",
       "    </tr>\n",
       "    <tr>\n",
       "      <th>1830</th>\n",
       "      <td>201101</td>\n",
       "      <td>2015-04-13 14:31</td>\n",
       "      <td>20150413T143152.json</td>\n",
       "      <td>2.828602</td>\n",
       "      <td>21</td>\n",
       "      <td>162.0</td>\n",
       "      <td>65.5</td>\n",
       "      <td>Male</td>\n",
       "      <td>Right</td>\n",
       "      <td>No injury</td>\n",
       "      <td>...</td>\n",
       "      <td>NaN</td>\n",
       "      <td>NaN</td>\n",
       "      <td>Recreational</td>\n",
       "      <td>NaN</td>\n",
       "      <td>NaN</td>\n",
       "      <td>HH</td>\n",
       "      <td>MM</td>\n",
       "      <td>SS</td>\n",
       "      <td>NaN</td>\n",
       "      <td>NaN</td>\n",
       "    </tr>\n",
       "  </tbody>\n",
       "</table>\n",
       "<p>739 rows × 26 columns</p>\n",
       "</div>"
      ],
      "text/plain": [
       "      sub_id        datestring              filename   speed_r  age  Height  \\\n",
       "3     100560  2012-07-17 10:37  20120717T103748.json  2.657365   33   179.3   \n",
       "4     101481  2012-07-17 10:50  20120717T105021.json  2.625088   32   176.3   \n",
       "8     100658  2012-11-22 14:03  20121122T140316.json  2.434180   22   172.0   \n",
       "10    100727  2013-04-10 10:54  20130410T105446.json  2.724679   22   170.0   \n",
       "11    100767  2013-06-06 13:46  20130606T134651.json  2.988546   33   180.0   \n",
       "...      ...               ...                   ...       ...  ...     ...   \n",
       "1824  200985  2015-03-10 12:01  20150310T120115.json  2.768780   40   176.0   \n",
       "1825  200985  2015-03-10 12:01  20150310T121326.json  3.359120   40   176.0   \n",
       "1826  200986  2015-03-12 14:28  20150312T142834.json  2.858234   20   174.0   \n",
       "1827  200986  2015-03-12 14:28  20150312T143944.json  4.876998   20   174.0   \n",
       "1830  201101  2015-04-13 14:31  20150413T143152.json  2.828602   21   162.0   \n",
       "\n",
       "      Weight  Gender DominantLeg    InjDefn  ... SpecInjury2  \\\n",
       "3       83.0  Female       Right  No injury  ...         NaN   \n",
       "4       58.6  Female         NaN  No injury  ...         NaN   \n",
       "8       69.0  Female       Right  No injury  ...         NaN   \n",
       "10      63.0  Female        Left  No injury  ...         NaN   \n",
       "11      69.0    Male        Left  No injury  ...         NaN   \n",
       "...      ...     ...         ...        ...  ...         ...   \n",
       "1824    66.8  Female       Right  No injury  ...         NaN   \n",
       "1825    66.8  Female       Right  No injury  ...         NaN   \n",
       "1826    56.8  Female       Right  No injury  ...         NaN   \n",
       "1827    56.8  Female       Right  No injury  ...         NaN   \n",
       "1830    65.5    Male       Right  No injury  ...         NaN   \n",
       "\n",
       "                                     Activities         Level  YrsRunning  \\\n",
       "3                                          Yoga  Recreational         NaN   \n",
       "4                                           NaN           NaN         NaN   \n",
       "8                                       running  Recreational         7.0   \n",
       "10                                      Running  Recreational         8.0   \n",
       "11                                      running   Competitive        10.0   \n",
       "...                                         ...           ...         ...   \n",
       "1824  Running, biking, general fitness training  Recreational        25.0   \n",
       "1825  Running, biking, general fitness training  Recreational        25.0   \n",
       "1826                                      Track   Competitive         8.0   \n",
       "1827                                      Track   Competitive         8.0   \n",
       "1830                                        NaN  Recreational         NaN   \n",
       "\n",
       "                  RaceDistance RaceTimeHrs RaceTimeMins RaceTimeSecs    YrPR  \\\n",
       "3     Casual Runner (no times)         NaN          NaN          NaN     NaN   \n",
       "4                          NaN         NaN          NaN          NaN     NaN   \n",
       "8                Half Marathon         NaN          NaN          NaN     NaN   \n",
       "10                         10k         NaN           40           00     NaN   \n",
       "11                         10k         NaN           38          NaN     NaN   \n",
       "...                        ...         ...          ...          ...     ...   \n",
       "1824             Half Marathon          HH           MM           SS     NaN   \n",
       "1825             Half Marathon          HH           MM           SS     NaN   \n",
       "1826            Other distance          HH            5           30  2013.0   \n",
       "1827            Other distance          HH            5           30  2013.0   \n",
       "1830                       NaN          HH           MM           SS     NaN   \n",
       "\n",
       "      NumRaces  \n",
       "3          NaN  \n",
       "4          NaN  \n",
       "8          NaN  \n",
       "10         4.0  \n",
       "11         NaN  \n",
       "...        ...  \n",
       "1824       1.0  \n",
       "1825       1.0  \n",
       "1826       0.0  \n",
       "1827       0.0  \n",
       "1830       NaN  \n",
       "\n",
       "[739 rows x 26 columns]"
      ]
     },
     "execution_count": 9,
     "metadata": {},
     "output_type": "execute_result"
    }
   ],
   "source": [
    "cleaned_nulls_inj_df[cleaned_nulls_inj_df['InjDefn'] == 'No injury']"
   ]
  },
  {
   "cell_type": "code",
   "execution_count": 10,
   "id": "fe83c908-0521-47a0-8387-4ed54df318bd",
   "metadata": {
    "tags": []
   },
   "outputs": [],
   "source": [
    "cleaned_nulls_total = cleaned_nulls_inj_df.copy()\n",
    "\n",
    "condition_injdefn_no_injury = cleaned_nulls_total['InjDefn'] == 'No injury'\n",
    "condition_injjoint_nan_or_other = cleaned_nulls_total['InjJoint'].isnull() | \\\n",
    "                                  (cleaned_nulls_total['InjJoint'] == 'Other')\n",
    "\n",
    "rows_to_edit = condition_injdefn_no_injury & condition_injjoint_nan_or_other\n",
    "\n",
    "\n",
    "cleaned_nulls_total.loc[rows_to_edit, 'InjJoint'] = 'No injury'"
   ]
  },
  {
   "cell_type": "code",
   "execution_count": 12,
   "id": "82d0653b-8387-40d0-9755-a6ff1f599e8b",
   "metadata": {
    "tags": []
   },
   "outputs": [
    {
     "data": {
      "text/plain": [
       "np.int64(0)"
      ]
     },
     "execution_count": 12,
     "metadata": {},
     "output_type": "execute_result"
    }
   ],
   "source": [
    "cleaned_nulls_total['InjJoint'].isnull().sum()"
   ]
  },
  {
   "cell_type": "markdown",
   "id": "306a9a23-5a25-4f61-b25c-3d90eebcd1b3",
   "metadata": {},
   "source": [
    "#### Cleaning the InjJoint feature"
   ]
  },
  {
   "cell_type": "code",
   "execution_count": 13,
   "id": "17e86c96-00da-432f-9b12-376f333a01ad",
   "metadata": {
    "tags": []
   },
   "outputs": [
    {
     "data": {
      "text/plain": [
       "InjJoint\n",
       "Knee                   348\n",
       "No injury              238\n",
       "No Injury              228\n",
       "No injury,No injury    189\n",
       "Lower Leg              185\n",
       "Thigh                  181\n",
       "Foot                   141\n",
       "Hip/Pelvis             136\n",
       "Ankle                  107\n",
       "Lumbar Spine            41\n",
       "Sacroiliac Joint        22\n",
       "Other                   16\n",
       "Name: count, dtype: int64"
      ]
     },
     "execution_count": 13,
     "metadata": {},
     "output_type": "execute_result"
    }
   ],
   "source": [
    "cleaned_nulls_total['InjJoint'].value_counts()"
   ]
  },
  {
   "cell_type": "code",
   "execution_count": 14,
   "id": "1af64886-2c08-438f-8c61-3dfcba66f651",
   "metadata": {
    "tags": []
   },
   "outputs": [],
   "source": [
    "cleaned_nulls_total.replace({'No Injury': 'No injury',\n",
    "                             'No injury,No injury': 'No injury',\n",
    "                             'Foot': 'Foot/Ankle',\n",
    "                             'Ankle': 'Foot/Ankle',\n",
    "                             'Lumbar Spine': 'Hip/Pelvis',\n",
    "                             'Sacroiliac Joint': 'Hip/Pelvis'}, inplace= True)"
   ]
  },
  {
   "cell_type": "code",
   "execution_count": 15,
   "id": "1c429edc-b891-4cc6-b82b-15ecaa365756",
   "metadata": {
    "tags": []
   },
   "outputs": [
    {
     "data": {
      "text/html": [
       "<div>\n",
       "<style scoped>\n",
       "    .dataframe tbody tr th:only-of-type {\n",
       "        vertical-align: middle;\n",
       "    }\n",
       "\n",
       "    .dataframe tbody tr th {\n",
       "        vertical-align: top;\n",
       "    }\n",
       "\n",
       "    .dataframe thead th {\n",
       "        text-align: right;\n",
       "    }\n",
       "</style>\n",
       "<table border=\"1\" class=\"dataframe\">\n",
       "  <thead>\n",
       "    <tr style=\"text-align: right;\">\n",
       "      <th></th>\n",
       "      <th>InjJoint</th>\n",
       "      <th>SpecInjury</th>\n",
       "      <th>InjDefn</th>\n",
       "    </tr>\n",
       "  </thead>\n",
       "  <tbody>\n",
       "    <tr>\n",
       "      <th>9</th>\n",
       "      <td>Other</td>\n",
       "      <td>fill in specifics below</td>\n",
       "      <td>Continuing to train in pain</td>\n",
       "    </tr>\n",
       "    <tr>\n",
       "      <th>74</th>\n",
       "      <td>Other</td>\n",
       "      <td>NaN</td>\n",
       "      <td>Training volume/intensity affected</td>\n",
       "    </tr>\n",
       "    <tr>\n",
       "      <th>78</th>\n",
       "      <td>Other</td>\n",
       "      <td>NaN</td>\n",
       "      <td>Training volume/intensity affected</td>\n",
       "    </tr>\n",
       "    <tr>\n",
       "      <th>142</th>\n",
       "      <td>Other</td>\n",
       "      <td>NaN</td>\n",
       "      <td>Continuing to train in pain</td>\n",
       "    </tr>\n",
       "    <tr>\n",
       "      <th>202</th>\n",
       "      <td>Other</td>\n",
       "      <td>NaN</td>\n",
       "      <td>Training volume/intensity affected</td>\n",
       "    </tr>\n",
       "    <tr>\n",
       "      <th>227</th>\n",
       "      <td>Other</td>\n",
       "      <td>NaN</td>\n",
       "      <td>2 workouts missed in a row</td>\n",
       "    </tr>\n",
       "    <tr>\n",
       "      <th>289</th>\n",
       "      <td>Other</td>\n",
       "      <td>NaN</td>\n",
       "      <td>Continuing to train in pain</td>\n",
       "    </tr>\n",
       "    <tr>\n",
       "      <th>457</th>\n",
       "      <td>Other</td>\n",
       "      <td>NaN</td>\n",
       "      <td>Training volume/intensity affected</td>\n",
       "    </tr>\n",
       "    <tr>\n",
       "      <th>774</th>\n",
       "      <td>Other</td>\n",
       "      <td>fill in specifics below</td>\n",
       "      <td>Continuing to train in pain</td>\n",
       "    </tr>\n",
       "    <tr>\n",
       "      <th>804</th>\n",
       "      <td>Other</td>\n",
       "      <td>fill in specifics below</td>\n",
       "      <td>Continuing to train in pain</td>\n",
       "    </tr>\n",
       "    <tr>\n",
       "      <th>814</th>\n",
       "      <td>Other</td>\n",
       "      <td>fill in specifics below</td>\n",
       "      <td>Training volume/intensity affected</td>\n",
       "    </tr>\n",
       "    <tr>\n",
       "      <th>875</th>\n",
       "      <td>Other</td>\n",
       "      <td>fill in specifics below</td>\n",
       "      <td>Training volume/intensity affected</td>\n",
       "    </tr>\n",
       "    <tr>\n",
       "      <th>891</th>\n",
       "      <td>Other</td>\n",
       "      <td>fill in specifics below</td>\n",
       "      <td>Training volume/intensity affected</td>\n",
       "    </tr>\n",
       "    <tr>\n",
       "      <th>895</th>\n",
       "      <td>Other</td>\n",
       "      <td>fill in specifics below</td>\n",
       "      <td>Training volume/intensity affected</td>\n",
       "    </tr>\n",
       "    <tr>\n",
       "      <th>924</th>\n",
       "      <td>Other</td>\n",
       "      <td>fill in specifics below</td>\n",
       "      <td>2 workouts missed in a row</td>\n",
       "    </tr>\n",
       "    <tr>\n",
       "      <th>999</th>\n",
       "      <td>Other</td>\n",
       "      <td>fill in specifics below</td>\n",
       "      <td>Continuing to train in pain</td>\n",
       "    </tr>\n",
       "  </tbody>\n",
       "</table>\n",
       "</div>"
      ],
      "text/plain": [
       "    InjJoint               SpecInjury                             InjDefn\n",
       "9      Other  fill in specifics below         Continuing to train in pain\n",
       "74     Other                      NaN  Training volume/intensity affected\n",
       "78     Other                      NaN  Training volume/intensity affected\n",
       "142    Other                      NaN         Continuing to train in pain\n",
       "202    Other                      NaN  Training volume/intensity affected\n",
       "227    Other                      NaN          2 workouts missed in a row\n",
       "289    Other                      NaN         Continuing to train in pain\n",
       "457    Other                      NaN  Training volume/intensity affected\n",
       "774    Other  fill in specifics below         Continuing to train in pain\n",
       "804    Other  fill in specifics below         Continuing to train in pain\n",
       "814    Other  fill in specifics below  Training volume/intensity affected\n",
       "875    Other  fill in specifics below  Training volume/intensity affected\n",
       "891    Other  fill in specifics below  Training volume/intensity affected\n",
       "895    Other  fill in specifics below  Training volume/intensity affected\n",
       "924    Other  fill in specifics below          2 workouts missed in a row\n",
       "999    Other  fill in specifics below         Continuing to train in pain"
      ]
     },
     "execution_count": 15,
     "metadata": {},
     "output_type": "execute_result"
    }
   ],
   "source": [
    "\n",
    "cleaned_nulls_total[cleaned_nulls_total['InjJoint'] == 'Other'][['InjJoint', 'SpecInjury', 'InjDefn']]"
   ]
  },
  {
   "cell_type": "markdown",
   "id": "cf039e50-39eb-4c33-ba6e-5ff708e01a49",
   "metadata": {},
   "source": [
    "removing the above 16 'others'"
   ]
  },
  {
   "cell_type": "code",
   "execution_count": 41,
   "id": "771d54b6-51f2-451f-8666-b632d8163f22",
   "metadata": {
    "tags": []
   },
   "outputs": [],
   "source": [
    "df_filtered = cleaned_nulls_total[cleaned_nulls_total['InjJoint'] != 'Other']"
   ]
  },
  {
   "cell_type": "markdown",
   "id": "b58f752d-010d-4828-8e5d-1194dd513ce7",
   "metadata": {},
   "source": [
    "## Data After Dropped Columns ##"
   ]
  },
  {
   "cell_type": "code",
   "execution_count": 42,
   "id": "5188686a-c096-41b2-978f-948d2cc8f72f",
   "metadata": {
    "tags": []
   },
   "outputs": [],
   "source": [
    "data_dropped = df_filtered.drop(['speed_r', 'DominantLeg', 'SpecInjury2', 'InjDuration', 'InjSide', 'Level', 'YrsRunning', 'RaceDistance', 'RaceTimeHrs', 'RaceTimeMins', 'RaceTimeSecs', 'YrPR', 'NumRaces', 'InjJoint2', 'InjSide2', 'Activities', 'datestring' ], axis=1)"
   ]
  },
  {
   "cell_type": "markdown",
   "id": "f3fb5720-5ecd-40b2-91b6-5611d8a3668f",
   "metadata": {},
   "source": [
    "## Cleaning the Data ##\n",
    "\n",
    "- Height: **3 missing values**\n",
    "- Weight: **2 missing values**\n",
    "- Gender: **1 value with 'Unknown'**\n",
    "- InjDefn: **(80 missing values) (1752 w/ value)**"
   ]
  },
  {
   "cell_type": "code",
   "execution_count": 43,
   "id": "3f609186-93a6-46dc-9131-2fb6310c2465",
   "metadata": {
    "tags": []
   },
   "outputs": [],
   "source": [
    "data_dropped.loc[data_dropped['age'] == 255, 'age'] = 25"
   ]
  },
  {
   "cell_type": "code",
   "execution_count": 44,
   "id": "6ae92a73-e0e3-4b36-aca4-4ed4e6245d42",
   "metadata": {
    "tags": []
   },
   "outputs": [],
   "source": [
    "data_dropped.loc[0, 'Gender'] = 'Male'"
   ]
  },
  {
   "cell_type": "markdown",
   "id": "02b8a606-0212-4084-b4d9-02c8de561c3b",
   "metadata": {},
   "source": [
    "## Let's fix Weight Column"
   ]
  },
  {
   "cell_type": "code",
   "execution_count": 45,
   "id": "f72c43ca-09d3-4355-bcf0-6416de8c9a9f",
   "metadata": {
    "tags": []
   },
   "outputs": [],
   "source": [
    "# Compute means, excluding the row being filled (row1, row2)\n",
    "male_mean = data_dropped.loc[(data_dropped['Gender'] == 'Male') & (data_dropped.index != 0), 'Weight'].mean()\n",
    "female_mean = data_dropped.loc[(data_dropped['Gender'] == 'Female') & (data_dropped.index != 1), 'Weight'].mean()\n",
    "\n",
    "# Fill the NaNs in first two rows(Male, Female)\n",
    "data_dropped.at[0, 'Weight'] = male_mean\n",
    "data_dropped.at[1, 'Weight'] = female_mean\n",
    "data_dropped['Weight'] = data_dropped['Weight'].round(1)\n"
   ]
  },
  {
   "cell_type": "markdown",
   "id": "cc6ffb92-686c-4cb4-9089-0a53cea65b08",
   "metadata": {},
   "source": [
    "## Let's Fix Height Column "
   ]
  },
  {
   "cell_type": "code",
   "execution_count": 46,
   "id": "6e729280-f4a3-4211-b64b-c96f86e20090",
   "metadata": {
    "tags": []
   },
   "outputs": [],
   "source": [
    "# Compute means, excluding the row being filled (row1, row2)\n",
    "male_mean = data_dropped.loc[(data_dropped['Gender'] == 'Male') & (data_dropped.index != 0), 'Height'].mean()\n",
    "female_mean = data_dropped.loc[(data_dropped['Gender'] == 'Female') & (data_dropped.index != 1), 'Height'].mean()\n",
    "\n",
    "# Fill the NaNs in first two rows (Male, Female)\n",
    "data_dropped.at[0, 'Height'] = male_mean\n",
    "data_dropped.at[1, 'Height'] = female_mean\n",
    "data_dropped['Height'] = data_dropped['Height'].round(1)"
   ]
  },
  {
   "cell_type": "markdown",
   "id": "e26ef67a-834d-4cbd-a8c7-78851cb91543",
   "metadata": {},
   "source": [
    "## Excluding 120Hz because we want 200Hz"
   ]
  },
  {
   "cell_type": "code",
   "execution_count": 47,
   "id": "cd7911d1-1a9b-4523-83db-fd145362a7c3",
   "metadata": {
    "tags": []
   },
   "outputs": [],
   "source": [
    "hz_data = pd.read_csv('../data/meta/all_120hz_subjects.csv')"
   ]
  },
  {
   "cell_type": "code",
   "execution_count": 48,
   "id": "5b8dedfe-eda2-407d-9a47-ec377e56a5f2",
   "metadata": {
    "tags": []
   },
   "outputs": [
    {
     "data": {
      "text/plain": [
       "115"
      ]
     },
     "execution_count": 48,
     "metadata": {},
     "output_type": "execute_result"
    }
   ],
   "source": [
    "len(hz_data['filename'])"
   ]
  },
  {
   "cell_type": "code",
   "execution_count": 49,
   "id": "c91dadce-e157-4c97-b167-933e84d5ad8b",
   "metadata": {
    "tags": []
   },
   "outputs": [],
   "source": [
    "to_exclude = hz_data['filename']\n",
    "final_df = data_dropped[~data_dropped['filename'].isin(to_exclude)]"
   ]
  },
  {
   "cell_type": "code",
   "execution_count": 50,
   "id": "42677c4b-8421-4fb1-9e04-62dfd3e73c83",
   "metadata": {
    "tags": []
   },
   "outputs": [
    {
     "name": "stdout",
     "output_type": "stream",
     "text": [
      "(1806, 9) (1816, 9)\n"
     ]
    }
   ],
   "source": [
    "print(final_df.shape, data_dropped.shape) #only 10 runners were recorded at 120Hz"
   ]
  },
  {
   "cell_type": "markdown",
   "id": "02065760-2240-432a-9c00-5b42c666939a",
   "metadata": {},
   "source": [
    "### which were removed? "
   ]
  },
  {
   "cell_type": "code",
   "execution_count": 56,
   "id": "1a5e9bd6-9496-4c34-b147-361d2de33b56",
   "metadata": {
    "tags": []
   },
   "outputs": [],
   "source": [
    "other_inj = cleaned_nulls_total[cleaned_nulls_total['InjJoint'] == 'Other']\n",
    "other_inj.to_csv('../data/meta/other_injuries_dropped.csv')"
   ]
  },
  {
   "cell_type": "code",
   "execution_count": 54,
   "id": "e7f6338a-0779-44e9-bd3a-ecf915b36929",
   "metadata": {
    "tags": []
   },
   "outputs": [],
   "source": [
    "hz_data['filename']\n",
    "runners_120hz = data_dropped[data_dropped['filename'].isin(to_exclude)]\n",
    "runners_120hz.to_csv('../data/meta/only_runners_120hz.csv')"
   ]
  },
  {
   "cell_type": "markdown",
   "id": "137001ab-9ae2-456f-a914-6b08dac2a16f",
   "metadata": {},
   "source": [
    "## Excluding final columns: InjDefn and SpecInjury"
   ]
  },
  {
   "cell_type": "code",
   "execution_count": 58,
   "id": "8916cb2d-8d01-4718-9f48-0bbea4dd71df",
   "metadata": {
    "tags": []
   },
   "outputs": [],
   "source": [
    "clean_final_df = final_df.drop(columns = ['InjDefn', 'SpecInjury', 'sub_id'])"
   ]
  },
  {
   "cell_type": "markdown",
   "id": "c3e1bf97-5ddf-4295-a1c7-5d8be22aa93f",
   "metadata": {},
   "source": [
    "### Save to csv in data/meta"
   ]
  },
  {
   "cell_type": "code",
   "execution_count": 60,
   "id": "ded2443f-ca66-4f58-825b-65fbb8ddca8e",
   "metadata": {
    "tags": []
   },
   "outputs": [
    {
     "data": {
      "text/html": [
       "<div>\n",
       "<style scoped>\n",
       "    .dataframe tbody tr th:only-of-type {\n",
       "        vertical-align: middle;\n",
       "    }\n",
       "\n",
       "    .dataframe tbody tr th {\n",
       "        vertical-align: top;\n",
       "    }\n",
       "\n",
       "    .dataframe thead th {\n",
       "        text-align: right;\n",
       "    }\n",
       "</style>\n",
       "<table border=\"1\" class=\"dataframe\">\n",
       "  <thead>\n",
       "    <tr style=\"text-align: right;\">\n",
       "      <th></th>\n",
       "      <th>filename</th>\n",
       "      <th>age</th>\n",
       "      <th>Height</th>\n",
       "      <th>Weight</th>\n",
       "      <th>Gender</th>\n",
       "      <th>InjJoint</th>\n",
       "    </tr>\n",
       "  </thead>\n",
       "  <tbody>\n",
       "    <tr>\n",
       "      <th>0</th>\n",
       "      <td>20101005T132240.json</td>\n",
       "      <td>53</td>\n",
       "      <td>180.3</td>\n",
       "      <td>79.4</td>\n",
       "      <td>Male</td>\n",
       "      <td>Knee</td>\n",
       "    </tr>\n",
       "    <tr>\n",
       "      <th>1</th>\n",
       "      <td>20101117T132240.json</td>\n",
       "      <td>51</td>\n",
       "      <td>166.0</td>\n",
       "      <td>62.8</td>\n",
       "      <td>Female</td>\n",
       "      <td>Hip/Pelvis</td>\n",
       "    </tr>\n",
       "    <tr>\n",
       "      <th>2</th>\n",
       "      <td>20120703T102550.json</td>\n",
       "      <td>25</td>\n",
       "      <td>173.1</td>\n",
       "      <td>67.6</td>\n",
       "      <td>Female</td>\n",
       "      <td>Hip/Pelvis</td>\n",
       "    </tr>\n",
       "    <tr>\n",
       "      <th>3</th>\n",
       "      <td>20120717T103748.json</td>\n",
       "      <td>33</td>\n",
       "      <td>179.3</td>\n",
       "      <td>83.0</td>\n",
       "      <td>Female</td>\n",
       "      <td>No injury</td>\n",
       "    </tr>\n",
       "    <tr>\n",
       "      <th>4</th>\n",
       "      <td>20120717T105021.json</td>\n",
       "      <td>32</td>\n",
       "      <td>176.3</td>\n",
       "      <td>58.6</td>\n",
       "      <td>Female</td>\n",
       "      <td>No injury</td>\n",
       "    </tr>\n",
       "  </tbody>\n",
       "</table>\n",
       "</div>"
      ],
      "text/plain": [
       "               filename  age  Height  Weight  Gender    InjJoint\n",
       "0  20101005T132240.json   53   180.3    79.4    Male        Knee\n",
       "1  20101117T132240.json   51   166.0    62.8  Female  Hip/Pelvis\n",
       "2  20120703T102550.json   25   173.1    67.6  Female  Hip/Pelvis\n",
       "3  20120717T103748.json   33   179.3    83.0  Female   No injury\n",
       "4  20120717T105021.json   32   176.3    58.6  Female   No injury"
      ]
     },
     "execution_count": 60,
     "metadata": {},
     "output_type": "execute_result"
    }
   ],
   "source": [
    "clean_final_df.head()"
   ]
  },
  {
   "cell_type": "code",
   "execution_count": 61,
   "id": "d4448a06-c36e-4c09-b028-2b5c780ed548",
   "metadata": {
    "tags": []
   },
   "outputs": [],
   "source": [
    "clean_final_df.to_csv('../data/meta/metadata_for_model.csv', index = False)"
   ]
  },
  {
   "cell_type": "code",
   "execution_count": 63,
   "id": "062e2bab-a1fe-4d01-a659-0dd6705f2628",
   "metadata": {
    "tags": []
   },
   "outputs": [
    {
     "data": {
      "text/plain": [
       "InjJoint\n",
       "No injury     654\n",
       "Knee          343\n",
       "Foot/Ankle    246\n",
       "Hip/Pelvis    198\n",
       "Lower Leg     185\n",
       "Thigh         180\n",
       "Name: count, dtype: int64"
      ]
     },
     "execution_count": 63,
     "metadata": {},
     "output_type": "execute_result"
    }
   ],
   "source": [
    "clean_final_df['InjJoint'].value_counts()"
   ]
  }
 ],
 "metadata": {
  "environment": {
   "kernel": "conda-base-py",
   "name": "workbench-notebooks.m129",
   "type": "gcloud",
   "uri": "us-docker.pkg.dev/deeplearning-platform-release/gcr.io/workbench-notebooks:m129"
  },
  "kernelspec": {
   "display_name": "Python 3 (ipykernel) (Local)",
   "language": "python",
   "name": "conda-base-py"
  },
  "language_info": {
   "codemirror_mode": {
    "name": "ipython",
    "version": 3
   },
   "file_extension": ".py",
   "mimetype": "text/x-python",
   "name": "python",
   "nbconvert_exporter": "python",
   "pygments_lexer": "ipython3",
   "version": "3.10.16"
  }
 },
 "nbformat": 4,
 "nbformat_minor": 5
}
